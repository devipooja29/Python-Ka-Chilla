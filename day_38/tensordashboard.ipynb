{
 "cells": [
  {
   "cell_type": "code",
   "execution_count": 2,
   "metadata": {},
   "outputs": [],
   "source": [
    "import tensorflow as tf\n",
    "from tensorflow import keras\n",
    "from tensorflow.keras import layers\n",
    "import os"
   ]
  },
  {
   "cell_type": "code",
   "execution_count": 3,
   "metadata": {},
   "outputs": [],
   "source": [
    "# Set up log directory \"logs\" and a function that prepends the time of a run\n",
    "root_logdir = os.path.join(os.curdir, \"logs\")\n",
    "\n",
    "def get_run_logdir(name: str = \"\"):\n",
    "    import time\n",
    "    run_id = time.strftime(f\"%m_%d-%H_%M\")\n",
    "    run_name = run_id + name\n",
    "    return os.path.join(root_logdir, run_name)"
   ]
  },
  {
   "cell_type": "code",
   "execution_count": 4,
   "metadata": {},
   "outputs": [],
   "source": [
    "# Load dataset (fmnist) - note: the dataset is reduced to allow for faster computation\n",
    "fashion_mnist = keras.datasets.fashion_mnist\n",
    "(X_train_full, y_train_full), (X_test, y_test) = fashion_mnist.load_data()\n",
    "\n",
    "X_valid, X_train = X_train_full[:5000] / 255, X_train_full[5000:35000] / 255\n",
    "y_valid, y_train = y_train_full[:5000], y_train_full[5000:35000]\n",
    "X_test = X_test / 255"
   ]
  },
  {
   "cell_type": "code",
   "execution_count": 5,
   "metadata": {},
   "outputs": [],
   "source": [
    "# Set some training hyperparams\n",
    "EPOCHS = 13"
   ]
  },
  {
   "cell_type": "code",
   "execution_count": 6,
   "metadata": {},
   "outputs": [
    {
     "name": "stdout",
     "output_type": "stream",
     "text": [
      "WARNING:tensorflow:From c:\\Users\\Kabir\\miniconda3\\envs\\tf_env\\lib\\site-packages\\keras\\src\\backend.py:873: The name tf.get_default_graph is deprecated. Please use tf.compat.v1.get_default_graph instead.\n",
      "\n",
      "WARNING:tensorflow:From c:\\Users\\Kabir\\miniconda3\\envs\\tf_env\\lib\\site-packages\\keras\\src\\layers\\pooling\\max_pooling2d.py:161: The name tf.nn.max_pool is deprecated. Please use tf.nn.max_pool2d instead.\n",
      "\n"
     ]
    }
   ],
   "source": [
    "model1 = keras.models.Sequential([\n",
    "    layers.Reshape([28, 28, 1], input_shape=[28, 28]),\n",
    "    layers.Conv2D(filters=32, kernel_size=3),\n",
    "    layers.BatchNormalization(),\n",
    "    layers.ReLU(),\n",
    "    layers.MaxPool2D(),\n",
    "    layers.Dropout(0.2),\n",
    "    layers.Flatten(),\n",
    "    layers.Dense(128, activation=\"relu\"),\n",
    "    layers.Dense(32, activation=\"relu\"),\n",
    "    layers.Dense(10, activation=\"softmax\"),\n",
    "])\n",
    "\n",
    "model1.compile(loss=\"sparse_categorical_crossentropy\", optimizer=keras.optimizers.Adam(), metrics=['accuracy'])"
   ]
  },
  {
   "cell_type": "code",
   "execution_count": 7,
   "metadata": {},
   "outputs": [
    {
     "name": "stdout",
     "output_type": "stream",
     "text": [
      "Epoch 1/13\n",
      "WARNING:tensorflow:From c:\\Users\\Kabir\\miniconda3\\envs\\tf_env\\lib\\site-packages\\keras\\src\\utils\\tf_utils.py:492: The name tf.ragged.RaggedTensorValue is deprecated. Please use tf.compat.v1.ragged.RaggedTensorValue instead.\n",
      "\n",
      "WARNING:tensorflow:From c:\\Users\\Kabir\\miniconda3\\envs\\tf_env\\lib\\site-packages\\keras\\src\\engine\\base_layer_utils.py:384: The name tf.executing_eagerly_outside_functions is deprecated. Please use tf.compat.v1.executing_eagerly_outside_functions instead.\n",
      "\n",
      "938/938 [==============================] - 33s 29ms/step - loss: 0.4849 - accuracy: 0.8266 - val_loss: 0.3508 - val_accuracy: 0.8756\n",
      "Epoch 2/13\n",
      "938/938 [==============================] - 23s 24ms/step - loss: 0.3293 - accuracy: 0.8797 - val_loss: 0.3325 - val_accuracy: 0.8836\n",
      "Epoch 3/13\n",
      "938/938 [==============================] - 24s 26ms/step - loss: 0.2796 - accuracy: 0.8978 - val_loss: 0.3016 - val_accuracy: 0.8904\n",
      "Epoch 4/13\n",
      "938/938 [==============================] - 22s 24ms/step - loss: 0.2520 - accuracy: 0.9066 - val_loss: 0.2954 - val_accuracy: 0.8960\n",
      "Epoch 5/13\n",
      "938/938 [==============================] - 22s 24ms/step - loss: 0.2287 - accuracy: 0.9149 - val_loss: 0.2969 - val_accuracy: 0.8996\n",
      "Epoch 6/13\n",
      "938/938 [==============================] - 23s 24ms/step - loss: 0.2074 - accuracy: 0.9218 - val_loss: 0.3191 - val_accuracy: 0.8872\n",
      "Epoch 7/13\n",
      "938/938 [==============================] - 22s 24ms/step - loss: 0.1905 - accuracy: 0.9295 - val_loss: 0.3138 - val_accuracy: 0.8962\n",
      "Epoch 8/13\n",
      "938/938 [==============================] - 23s 25ms/step - loss: 0.1758 - accuracy: 0.9336 - val_loss: 0.3190 - val_accuracy: 0.9030\n",
      "Epoch 9/13\n",
      "938/938 [==============================] - 25s 27ms/step - loss: 0.1617 - accuracy: 0.9383 - val_loss: 0.2938 - val_accuracy: 0.9020\n",
      "Epoch 10/13\n",
      "938/938 [==============================] - 26s 27ms/step - loss: 0.1550 - accuracy: 0.9404 - val_loss: 0.3553 - val_accuracy: 0.8900\n",
      "Epoch 11/13\n",
      "938/938 [==============================] - 25s 26ms/step - loss: 0.1413 - accuracy: 0.9476 - val_loss: 0.3471 - val_accuracy: 0.8928\n",
      "Epoch 12/13\n",
      "938/938 [==============================] - 25s 27ms/step - loss: 0.1317 - accuracy: 0.9511 - val_loss: 0.3542 - val_accuracy: 0.9012\n",
      "Epoch 13/13\n",
      "938/938 [==============================] - 28s 29ms/step - loss: 0.1236 - accuracy: 0.9540 - val_loss: 0.4234 - val_accuracy: 0.8836\n"
     ]
    }
   ],
   "source": [
    "# This is where the callback is defined and used\n",
    "tensorboard_cb = keras.callbacks.TensorBoard(get_run_logdir(\"1conv\"),\n",
    "                                             histogram_freq=1,)\n",
    "history = model1.fit(X_train, y_train, epochs=EPOCHS, validation_data=(X_valid, y_valid), callbacks=[tensorboard_cb])"
   ]
  },
  {
   "cell_type": "code",
   "execution_count": 8,
   "metadata": {},
   "outputs": [],
   "source": [
    "model2 = keras.models.Sequential([\n",
    "    layers.Reshape([28, 28, 1], input_shape=[28, 28]),\n",
    "    layers.Conv2D(filters=32, kernel_size=3),\n",
    "    layers.BatchNormalization(),\n",
    "    layers.ReLU(),\n",
    "    layers.MaxPool2D(),\n",
    "    layers.Dropout(0.2),\n",
    "    layers.Conv2D(filters=32, kernel_size=3),\n",
    "    layers.BatchNormalization(),\n",
    "    layers.ReLU(),\n",
    "    layers.MaxPool2D(),\n",
    "    layers.Dropout(0.2),\n",
    "    layers.Flatten(),\n",
    "    layers.Dense(128, activation=\"relu\"),\n",
    "    layers.Dense(32, activation=\"relu\"),\n",
    "    layers.Dense(10, activation=\"softmax\"),\n",
    "])\n",
    "\n",
    "model2.compile(loss=\"sparse_categorical_crossentropy\", optimizer=keras.optimizers.Adam(), metrics=['accuracy'])"
   ]
  },
  {
   "cell_type": "code",
   "execution_count": 9,
   "metadata": {},
   "outputs": [
    {
     "name": "stdout",
     "output_type": "stream",
     "text": [
      "Epoch 1/13\n",
      "938/938 [==============================] - 32s 27ms/step - loss: 0.5805 - accuracy: 0.7869 - val_loss: 0.3767 - val_accuracy: 0.8698\n",
      "Epoch 2/13\n",
      "938/938 [==============================] - 28s 29ms/step - loss: 0.4079 - accuracy: 0.8515 - val_loss: 0.3639 - val_accuracy: 0.8610\n",
      "Epoch 3/13\n",
      "938/938 [==============================] - 23s 24ms/step - loss: 0.3622 - accuracy: 0.8661 - val_loss: 0.3126 - val_accuracy: 0.8846\n",
      "Epoch 4/13\n",
      "938/938 [==============================] - 20s 21ms/step - loss: 0.3308 - accuracy: 0.8770 - val_loss: 0.3086 - val_accuracy: 0.8882\n",
      "Epoch 5/13\n",
      "938/938 [==============================] - 21s 22ms/step - loss: 0.3115 - accuracy: 0.8846 - val_loss: 0.2999 - val_accuracy: 0.8904\n",
      "Epoch 6/13\n",
      "938/938 [==============================] - 20s 21ms/step - loss: 0.2953 - accuracy: 0.8882 - val_loss: 0.2880 - val_accuracy: 0.8902\n",
      "Epoch 7/13\n",
      "938/938 [==============================] - 21s 22ms/step - loss: 0.2838 - accuracy: 0.8943 - val_loss: 0.2859 - val_accuracy: 0.8998\n",
      "Epoch 8/13\n",
      "938/938 [==============================] - 19s 20ms/step - loss: 0.2676 - accuracy: 0.8997 - val_loss: 0.2738 - val_accuracy: 0.8954\n",
      "Epoch 9/13\n",
      "938/938 [==============================] - 19s 20ms/step - loss: 0.2632 - accuracy: 0.9013 - val_loss: 0.2842 - val_accuracy: 0.9000\n",
      "Epoch 10/13\n",
      "938/938 [==============================] - 22s 24ms/step - loss: 0.2533 - accuracy: 0.9041 - val_loss: 0.2744 - val_accuracy: 0.9024\n",
      "Epoch 11/13\n",
      "938/938 [==============================] - 22s 24ms/step - loss: 0.2416 - accuracy: 0.9090 - val_loss: 0.2659 - val_accuracy: 0.8950\n",
      "Epoch 12/13\n",
      "938/938 [==============================] - 21s 22ms/step - loss: 0.2366 - accuracy: 0.9109 - val_loss: 0.2693 - val_accuracy: 0.8978\n",
      "Epoch 13/13\n",
      "938/938 [==============================] - 19s 21ms/step - loss: 0.2286 - accuracy: 0.9123 - val_loss: 0.2819 - val_accuracy: 0.8980\n"
     ]
    }
   ],
   "source": [
    "# This is where the callback is defined and used\n",
    "tensorboard_cb = keras.callbacks.TensorBoard(get_run_logdir(\"2conv\"),\n",
    "                                             histogram_freq=1,)\n",
    "history = model2.fit(X_train, y_train, epochs=EPOCHS, validation_data=(X_valid, y_valid), callbacks=[tensorboard_cb])"
   ]
  },
  {
   "cell_type": "code",
   "execution_count": 11,
   "metadata": {},
   "outputs": [
    {
     "name": "stdout",
     "output_type": "stream",
     "text": [
      "The tensorboard extension is already loaded. To reload it, use:\n",
      "  %reload_ext tensorboard\n"
     ]
    },
    {
     "data": {
      "text/plain": [
       "Reusing TensorBoard on port 6006 (pid 12364), started 0:02:57 ago. (Use '!kill 12364' to kill it.)"
      ]
     },
     "metadata": {},
     "output_type": "display_data"
    },
    {
     "data": {
      "text/html": [
       "\n",
       "      <iframe id=\"tensorboard-frame-8bd9554a5309c443\" width=\"100%\" height=\"800\" frameborder=\"0\">\n",
       "      </iframe>\n",
       "      <script>\n",
       "        (function() {\n",
       "          const frame = document.getElementById(\"tensorboard-frame-8bd9554a5309c443\");\n",
       "          const url = new URL(\"http://localhost\");\n",
       "          const port = 6006;\n",
       "          if (port) {\n",
       "            url.port = port;\n",
       "          }\n",
       "          frame.src = url;\n",
       "        })();\n",
       "      </script>\n",
       "    "
      ],
      "text/plain": [
       "<IPython.core.display.HTML object>"
      ]
     },
     "metadata": {},
     "output_type": "display_data"
    }
   ],
   "source": [
    "# Load tensorboard\n",
    "%load_ext tensorboard\n",
    "%tensorboard --logdir=./logs"
   ]
  }
 ],
 "metadata": {
  "kernelspec": {
   "display_name": "tf_env",
   "language": "python",
   "name": "python3"
  },
  "language_info": {
   "codemirror_mode": {
    "name": "ipython",
    "version": 3
   },
   "file_extension": ".py",
   "mimetype": "text/x-python",
   "name": "python",
   "nbconvert_exporter": "python",
   "pygments_lexer": "ipython3",
   "version": "3.9.18"
  }
 },
 "nbformat": 4,
 "nbformat_minor": 2
}
