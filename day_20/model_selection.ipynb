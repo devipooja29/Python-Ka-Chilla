{
 "cells": [
  {
   "cell_type": "markdown",
   "metadata": {},
   "source": [
    "# Best Model Selection"
   ]
  },
  {
   "cell_type": "code",
   "execution_count": 8,
   "metadata": {},
   "outputs": [
    {
     "name": "stdout",
     "output_type": "stream",
     "text": [
      "Accuracy Score:  LogisticRegression : 0.81\n",
      "Accuracy Score:  RandomForestClassifier : 0.80\n",
      "Accuracy Score:  DecisionTreeClassifier : 0.76\n",
      "Accuracy Score:  KNeighborsClassifier : 0.69\n",
      "Accuracy Score:  SVC : 0.66\n"
     ]
    }
   ],
   "source": [
    "# Importing libraries\n",
    "import pandas as pd\n",
    "import numpy as np\n",
    "import seaborn as sns\n",
    "import matplotlib.pyplot as plt\n",
    "\n",
    "# Loading dataset\n",
    "df = sns.load_dataset(\"titanic\")\n",
    "# Defining X and y\n",
    "X = df[['pclass', 'sex', 'age', 'sibsp', 'parch', 'fare']]\n",
    "y = df['survived']\n",
    "# Label encoding (converting categorical labels into numerical values)\n",
    "X = pd.get_dummies(X, columns=['sex'])\n",
    "# Filling null values in age column\n",
    "X['age'] = X['age'].fillna(X['age'].mean())\n",
    "\n",
    "# Importing machine learning models\n",
    "# Importing supervised machine learning classification model (Logistic Regression)\n",
    "from sklearn.linear_model import LogisticRegression \n",
    "# Importing supervised machine learning classification model (Support Vector Machine)\n",
    "from sklearn.svm import SVC        \n",
    "# Importing supervised machine learning classification model (Decision Tree)                \n",
    "from sklearn.tree import DecisionTreeClassifier\n",
    "# Importing supervised machine learning classification model (Random Forest)                \n",
    "from sklearn.ensemble import RandomForestClassifier\n",
    "# Importing supervised machine learning classification model (K Neighbors)                \n",
    "from sklearn.neighbors import KNeighborsClassifier\n",
    "# Importing classification model metrics                \n",
    "from sklearn.metrics import accuracy_score, f1_score, precision_score, recall_score\n",
    "# Importing train_test_split\n",
    "from sklearn.model_selection import train_test_split\n",
    "\n",
    "# Splitting dataset into train and test\n",
    "X_train, X_test, y_train, y_test = train_test_split(X, y, test_size=0.2, random_state=42)\n",
    "\n",
    "# Making list of supervised machine learning classification models\n",
    "models = [\n",
    "    LogisticRegression(),\n",
    "    SVC(),\n",
    "    DecisionTreeClassifier(),\n",
    "    RandomForestClassifier(),\n",
    "    KNeighborsClassifier()\n",
    "]\n",
    "\n",
    "# Assigning names to listed models\n",
    "model_names = [\n",
    "    'LogisticRegression',\n",
    "    'SVC',\n",
    "    'DecisionTreeClassifier',\n",
    "    'RandomForestClassifier',\n",
    "    'KNeighborsClassifier'\n",
    "]\n",
    "\n",
    "# Creating empty list of models_score\n",
    "models_scores = []\n",
    "\n",
    "# Using for loop to fit each model to data and get their accuracy\n",
    "for model, model_names in zip(models, model_names):\n",
    "    model.fit(X_train, y_train)\n",
    "    y_pred = model.predict(X_test)\n",
    "    accuracy = accuracy_score(y_test, y_pred)\n",
    "    models_scores.append((model_names, accuracy)) # Filling empty models_scores list with model names and accuracy\n",
    "\n",
    "# Sorting models in models-scores list in descending order according to models' accuracy score and storing it into sorted_models \n",
    "sorted_models = sorted(models_scores, key=lambda x: x[1], reverse=True)\n",
    "# Calling each model from sorted_models list and printing model name and its respective accuracy score\n",
    "for model in sorted_models: \n",
    "    print(\"Accuracy Score: \",f'{model[0]} : {model[1]:.2f}')"
   ]
  },
  {
   "cell_type": "code",
   "execution_count": 4,
   "metadata": {},
   "outputs": [
    {
     "name": "stdout",
     "output_type": "stream",
     "text": [
      "Accuracy Score:  LogisticRegression : 0.80\n",
      "Accuracy Score:  RandomForestClassifier : 0.79\n",
      "Accuracy Score:  SVC : 0.76\n",
      "Accuracy Score:  DecisionTreeClassifier : 0.70\n",
      "Accuracy Score:  KNeighborsClassifier : 0.66\n"
     ]
    }
   ],
   "source": [
    "models = [\n",
    "    LogisticRegression(),\n",
    "    SVC(),\n",
    "    DecisionTreeClassifier(),\n",
    "    RandomForestClassifier(),\n",
    "    KNeighborsClassifier()\n",
    "]\n",
    "model_names = [\n",
    "    'LogisticRegression',\n",
    "    'SVC',\n",
    "    'DecisionTreeClassifier',\n",
    "    'RandomForestClassifier',\n",
    "    'KNeighborsClassifier'\n",
    "]\n",
    "models_scores = []\n",
    "for model, model_names in zip(models, model_names):\n",
    "    model.fit(X_train, y_train)\n",
    "    y_pred = model.predict(X_test)\n",
    "    Percision = precision_score(y_test, y_pred)\n",
    "    models_scores.append((model_names, Percision))\n",
    "\n",
    "sorted_models = sorted(models_scores, key=lambda x: x[1], reverse=True)\n",
    "for model in sorted_models:\n",
    "    print(\"Percision: \",f'{model[0]} : {model[1]:.2f}')"
   ]
  },
  {
   "cell_type": "code",
   "execution_count": 5,
   "metadata": {},
   "outputs": [
    {
     "name": "stdout",
     "output_type": "stream",
     "text": [
      "Recall Score:  RandomForestClassifier : 0.74\n",
      "Recall Score:  LogisticRegression : 0.72\n",
      "Recall Score:  DecisionTreeClassifier : 0.70\n",
      "Recall Score:  KNeighborsClassifier : 0.54\n",
      "Recall Score:  SVC : 0.26\n"
     ]
    }
   ],
   "source": [
    "models = [\n",
    "    LogisticRegression(),\n",
    "    SVC(),\n",
    "    DecisionTreeClassifier(),\n",
    "    RandomForestClassifier(),\n",
    "    KNeighborsClassifier()\n",
    "]\n",
    "model_names = [\n",
    "    'LogisticRegression',\n",
    "    'SVC',\n",
    "    'DecisionTreeClassifier',\n",
    "    'RandomForestClassifier',\n",
    "    'KNeighborsClassifier'\n",
    "]\n",
    "models_scores = []\n",
    "for model, model_names in zip(models, model_names):\n",
    "    model.fit(X_train, y_train)\n",
    "    y_pred = model.predict(X_test)\n",
    "    Recall_score = recall_score(y_test, y_pred)\n",
    "    models_scores.append((model_names, Recall_score))\n",
    "\n",
    "sorted_models = sorted(models_scores, key=lambda x: x[1], reverse=True)\n",
    "for model in sorted_models:\n",
    "    print(\"Recall Score: \",f'{model[0]} : {model[1]:.2f}')"
   ]
  },
  {
   "cell_type": "code",
   "execution_count": 6,
   "metadata": {},
   "outputs": [
    {
     "name": "stdout",
     "output_type": "stream",
     "text": [
      "F1 Score:  RandomForestClassifier : 0.76\n",
      "F1 Score:  LogisticRegression : 0.76\n",
      "F1 Score:  DecisionTreeClassifier : 0.71\n",
      "F1 Score:  KNeighborsClassifier : 0.59\n",
      "F1 Score:  SVC : 0.38\n"
     ]
    }
   ],
   "source": [
    "models = [\n",
    "    LogisticRegression(),\n",
    "    SVC(),\n",
    "    DecisionTreeClassifier(),\n",
    "    RandomForestClassifier(),\n",
    "    KNeighborsClassifier()\n",
    "]\n",
    "model_names = [\n",
    "    'LogisticRegression',\n",
    "    'SVC',\n",
    "    'DecisionTreeClassifier',\n",
    "    'RandomForestClassifier',\n",
    "    'KNeighborsClassifier'\n",
    "]\n",
    "models_scores = []\n",
    "for model, model_names in zip(models, model_names):\n",
    "    model.fit(X_train, y_train)\n",
    "    y_pred = model.predict(X_test)\n",
    "    F1_score = f1_score(y_test, y_pred)\n",
    "    models_scores.append((model_names, F1_score))\n",
    "\n",
    "sorted_models = sorted(models_scores, key=lambda x: x[1], reverse=True)\n",
    "for model in sorted_models:\n",
    "    print(\"F1 Score: \",f'{model[0]} : {model[1]:.2f}')"
   ]
  }
 ],
 "metadata": {
  "kernelspec": {
   "display_name": "Python 3",
   "language": "python",
   "name": "python3"
  },
  "language_info": {
   "codemirror_mode": {
    "name": "ipython",
    "version": 3
   },
   "file_extension": ".py",
   "mimetype": "text/x-python",
   "name": "python",
   "nbconvert_exporter": "python",
   "pygments_lexer": "ipython3",
   "version": "3.11.6"
  }
 },
 "nbformat": 4,
 "nbformat_minor": 2
}
